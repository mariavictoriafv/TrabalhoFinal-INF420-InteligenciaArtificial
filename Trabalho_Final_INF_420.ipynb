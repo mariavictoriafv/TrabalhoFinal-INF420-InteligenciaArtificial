{
  "nbformat": 4,
  "nbformat_minor": 0,
  "metadata": {
    "colab": {
      "provenance": [],
      "include_colab_link": true
    },
    "kernelspec": {
      "name": "python3",
      "display_name": "Python 3"
    },
    "language_info": {
      "name": "python"
    }
  },
  "cells": [
    {
      "cell_type": "markdown",
      "metadata": {
        "id": "view-in-github",
        "colab_type": "text"
      },
      "source": [
        "<a href=\"https://colab.research.google.com/github/mvictoriaufv25/TrabalhoFinal-INF420-InteligenciaArtificial/blob/main/Trabalho_Final_INF_420.ipynb\" target=\"_parent\"><img src=\"https://colab.research.google.com/assets/colab-badge.svg\" alt=\"Open In Colab\"/></a>"
      ]
    },
    {
      "cell_type": "markdown",
      "source": [
        "# Trabalho Final da Disciplina de Inteligência Artificial - INF 420 #\n",
        "\n",
        "##Alunos:\n",
        "##Kevin Alexandre de Castro - 102027 ##\n",
        "##Maria Victória Fernandes Vaz - 105470##"
      ],
      "metadata": {
        "id": "YHEIZwwsIh0H"
      }
    },
    {
      "cell_type": "markdown",
      "source": [
        "## Objetivo do Trabalho\n",
        "\n",
        "Esse trabalho tem como objetivo utilizar algoritmos de machine learning supervisionados para fazer a classificação de avaliações de usuários sobre filmes, produtos e estabelecimentos comerciais em negativas ou positivas. Após a construção das soluções, os métodos utilizados serão avaliados em relação a cada conjunto de dados utilizado. Essa avaliação será feita utilizando as métricas de avaliação acurácia, recall, precision, loss e f1 score e por meio da visualização dos resultados a partir de gráficos comparativos do desempenho de cada modelo no treinamento e no teste e da matriz de confusão. Para minimizar o relatório do trabalho, apenas a acurácia, a aprecisão e a matriz de confusão serão analisadas no documento.\n",
        "\n",
        "\n"
      ],
      "metadata": {
        "id": "CNIAlwV9JH6u"
      }
    },
    {
      "cell_type": "markdown",
      "source": [
        "## Leitura dos Dados\n",
        "Para treinamento e validação dos algoritmos implementados nesse trabalho utilizaremos um total de 6748 avaliações de usuários obtidas nos seguintes contextos\n",
        "\n",
        "*   IMDB: 748 avaliações sobre cinema\n",
        "*   Amazon: 5000 avaliações sobre produtos\n",
        "*   Yelp: 1000 avaliações de estabelecimentos comerciais\n",
        "\n",
        "Os dados dos data s possuem a seguinte configuração: uma label que contem a avaliação do usuário e depois um número que é 0, caso a avaliação seja negativa e 1, caso a avaliação seja positiva.\n",
        "\n"
      ],
      "metadata": {
        "id": "HxaC6CxitJc2"
      }
    },
    {
      "cell_type": "code",
      "source": [
        "import pandas as pd\n",
        "\n",
        "# Lendo os datasets com o pandas\n",
        "# Vamos ler separadamente os datasets para utilizá-los em outros experimentos posteriormente\n",
        "data_imdb = pd.read_csv('./imdb_labelled.txt', sep=\"\\t\")\n",
        "data_yelp = pd.read_csv('./yelp_labelled.txt', sep=\"\\t\")\n",
        "data_amazon = pd.read_csv('./amazon_labelled.txt', sep=\"\\t\")\n",
        "\n",
        "# Mostrando o dataset lido como exemplo\n",
        "# data_amazon_general.head()\n",
        "# data_imdb.head()\n",
        "data_yelp.head()\n"
      ],
      "metadata": {
        "colab": {
          "base_uri": "https://localhost:8080/",
          "height": 206
        },
        "id": "ALecv6wkrfnU",
        "outputId": "6a270a7d-6195-4512-fa1a-aa5003dd3b0d"
      },
      "execution_count": 1,
      "outputs": [
        {
          "output_type": "execute_result",
          "data": {
            "text/plain": [
              "                                          Avaliation  Sentiment\n",
              "0                           Wow... Loved this place.          1\n",
              "1                                 Crust is not good.          0\n",
              "2          Not tasty and the texture was just nasty.          0\n",
              "3  Stopped by during the late May bank holiday of...          1\n",
              "4  The selection on the menu was great and so wer...          1"
            ],
            "text/html": [
              "\n",
              "  <div id=\"df-db022194-612a-4616-b019-3c9204f7439a\">\n",
              "    <div class=\"colab-df-container\">\n",
              "      <div>\n",
              "<style scoped>\n",
              "    .dataframe tbody tr th:only-of-type {\n",
              "        vertical-align: middle;\n",
              "    }\n",
              "\n",
              "    .dataframe tbody tr th {\n",
              "        vertical-align: top;\n",
              "    }\n",
              "\n",
              "    .dataframe thead th {\n",
              "        text-align: right;\n",
              "    }\n",
              "</style>\n",
              "<table border=\"1\" class=\"dataframe\">\n",
              "  <thead>\n",
              "    <tr style=\"text-align: right;\">\n",
              "      <th></th>\n",
              "      <th>Avaliation</th>\n",
              "      <th>Sentiment</th>\n",
              "    </tr>\n",
              "  </thead>\n",
              "  <tbody>\n",
              "    <tr>\n",
              "      <th>0</th>\n",
              "      <td>Wow... Loved this place.</td>\n",
              "      <td>1</td>\n",
              "    </tr>\n",
              "    <tr>\n",
              "      <th>1</th>\n",
              "      <td>Crust is not good.</td>\n",
              "      <td>0</td>\n",
              "    </tr>\n",
              "    <tr>\n",
              "      <th>2</th>\n",
              "      <td>Not tasty and the texture was just nasty.</td>\n",
              "      <td>0</td>\n",
              "    </tr>\n",
              "    <tr>\n",
              "      <th>3</th>\n",
              "      <td>Stopped by during the late May bank holiday of...</td>\n",
              "      <td>1</td>\n",
              "    </tr>\n",
              "    <tr>\n",
              "      <th>4</th>\n",
              "      <td>The selection on the menu was great and so wer...</td>\n",
              "      <td>1</td>\n",
              "    </tr>\n",
              "  </tbody>\n",
              "</table>\n",
              "</div>\n",
              "      <button class=\"colab-df-convert\" onclick=\"convertToInteractive('df-db022194-612a-4616-b019-3c9204f7439a')\"\n",
              "              title=\"Convert this dataframe to an interactive table.\"\n",
              "              style=\"display:none;\">\n",
              "        \n",
              "  <svg xmlns=\"http://www.w3.org/2000/svg\" height=\"24px\"viewBox=\"0 0 24 24\"\n",
              "       width=\"24px\">\n",
              "    <path d=\"M0 0h24v24H0V0z\" fill=\"none\"/>\n",
              "    <path d=\"M18.56 5.44l.94 2.06.94-2.06 2.06-.94-2.06-.94-.94-2.06-.94 2.06-2.06.94zm-11 1L8.5 8.5l.94-2.06 2.06-.94-2.06-.94L8.5 2.5l-.94 2.06-2.06.94zm10 10l.94 2.06.94-2.06 2.06-.94-2.06-.94-.94-2.06-.94 2.06-2.06.94z\"/><path d=\"M17.41 7.96l-1.37-1.37c-.4-.4-.92-.59-1.43-.59-.52 0-1.04.2-1.43.59L10.3 9.45l-7.72 7.72c-.78.78-.78 2.05 0 2.83L4 21.41c.39.39.9.59 1.41.59.51 0 1.02-.2 1.41-.59l7.78-7.78 2.81-2.81c.8-.78.8-2.07 0-2.86zM5.41 20L4 18.59l7.72-7.72 1.47 1.35L5.41 20z\"/>\n",
              "  </svg>\n",
              "      </button>\n",
              "      \n",
              "  <style>\n",
              "    .colab-df-container {\n",
              "      display:flex;\n",
              "      flex-wrap:wrap;\n",
              "      gap: 12px;\n",
              "    }\n",
              "\n",
              "    .colab-df-convert {\n",
              "      background-color: #E8F0FE;\n",
              "      border: none;\n",
              "      border-radius: 50%;\n",
              "      cursor: pointer;\n",
              "      display: none;\n",
              "      fill: #1967D2;\n",
              "      height: 32px;\n",
              "      padding: 0 0 0 0;\n",
              "      width: 32px;\n",
              "    }\n",
              "\n",
              "    .colab-df-convert:hover {\n",
              "      background-color: #E2EBFA;\n",
              "      box-shadow: 0px 1px 2px rgba(60, 64, 67, 0.3), 0px 1px 3px 1px rgba(60, 64, 67, 0.15);\n",
              "      fill: #174EA6;\n",
              "    }\n",
              "\n",
              "    [theme=dark] .colab-df-convert {\n",
              "      background-color: #3B4455;\n",
              "      fill: #D2E3FC;\n",
              "    }\n",
              "\n",
              "    [theme=dark] .colab-df-convert:hover {\n",
              "      background-color: #434B5C;\n",
              "      box-shadow: 0px 1px 3px 1px rgba(0, 0, 0, 0.15);\n",
              "      filter: drop-shadow(0px 1px 2px rgba(0, 0, 0, 0.3));\n",
              "      fill: #FFFFFF;\n",
              "    }\n",
              "  </style>\n",
              "\n",
              "      <script>\n",
              "        const buttonEl =\n",
              "          document.querySelector('#df-db022194-612a-4616-b019-3c9204f7439a button.colab-df-convert');\n",
              "        buttonEl.style.display =\n",
              "          google.colab.kernel.accessAllowed ? 'block' : 'none';\n",
              "\n",
              "        async function convertToInteractive(key) {\n",
              "          const element = document.querySelector('#df-db022194-612a-4616-b019-3c9204f7439a');\n",
              "          const dataTable =\n",
              "            await google.colab.kernel.invokeFunction('convertToInteractive',\n",
              "                                                     [key], {});\n",
              "          if (!dataTable) return;\n",
              "\n",
              "          const docLinkHtml = 'Like what you see? Visit the ' +\n",
              "            '<a target=\"_blank\" href=https://colab.research.google.com/notebooks/data_table.ipynb>data table notebook</a>'\n",
              "            + ' to learn more about interactive tables.';\n",
              "          element.innerHTML = '';\n",
              "          dataTable['output_type'] = 'display_data';\n",
              "          await google.colab.output.renderOutput(dataTable, element);\n",
              "          const docLink = document.createElement('div');\n",
              "          docLink.innerHTML = docLinkHtml;\n",
              "          element.appendChild(docLink);\n",
              "        }\n",
              "      </script>\n",
              "    </div>\n",
              "  </div>\n",
              "  "
            ]
          },
          "metadata": {},
          "execution_count": 1
        }
      ]
    },
    {
      "cell_type": "markdown",
      "source": [
        "## Pré-Processamento dos Dados\n",
        "\n",
        "Antes de inserir os dados em um modelo de Machine Learning é necessário representar de alguma forma as informações que estão em linguagem natural de maneira numérica, de forma a preservar certas características das frases. Nesse trbalho vamos testar duas formas de pré-processamento: a Técnica TF-IDF e vetorização por contagem de Palavras.\n"
      ],
      "metadata": {
        "id": "tb-zY2CVEaer"
      }
    },
    {
      "cell_type": "markdown",
      "source": [
        "##Técnica TF-IDF (Term Frequency - Inverse Data Frequency )\n",
        "\n",
        "A técnica TF-IDF é a junção de dois mecanismos: o TF, que calcula o número de vezes que uma palavra aparece em um dataset dividido pelo número total de palavras no dataset e o IDF, que mede a importância de um termo dentro de um documento (frase) em relação a uma coleção de documentos (frases)"
      ],
      "metadata": {
        "id": "CPIcFwde2Smo"
      }
    },
    {
      "cell_type": "code",
      "source": [
        "# Importando métodos do sklearn que ajudam vetorizar as frases e aplicar a técnica escolhida\n",
        "from sklearn.model_selection import train_test_split\n",
        "from sklearn.feature_extraction.text import TfidfVectorizer\n",
        "\n",
        "# Vetorizando com TF-IDF\n",
        "\n",
        "tfidf1 = TfidfVectorizer(max_features=1000000)\n",
        "data_set_imdb = tfidf1.fit_transform(data_imdb.Avaliation)\n",
        "feature_names = tfidf1.get_feature_names_out()  # Obtendo os nomes das características\n",
        "data_set_imdb = pd.DataFrame(data_set_imdb.toarray(), columns=feature_names)\n",
        "\n",
        "tfidf2 = TfidfVectorizer(max_features=1000000)\n",
        "data_set_yelp = tfidf2.fit_transform(data_yelp.Avaliation)\n",
        "feature_names = tfidf2.get_feature_names_out()  # Obtendo os nomes das características\n",
        "data_set_yelp = pd.DataFrame(data_set_yelp.toarray(), columns=feature_names)\n",
        "\n",
        "tfidf3 = TfidfVectorizer(max_features=1000000)\n",
        "data_set_amazon = tfidf3.fit_transform(data_amazon.Avaliation)\n",
        "feature_names = tfidf3.get_feature_names_out()  # Obtendo os nomes das características\n",
        "data_set_amazon = pd.DataFrame(data_set_amazon.toarray(), columns=feature_names)\n",
        "\n",
        "\n",
        "print(data_set_amazon)"
      ],
      "metadata": {
        "id": "dGlGQIVZ1UVv",
        "colab": {
          "base_uri": "https://localhost:8080/"
        },
        "outputId": "715b2963-f870-4f30-de1c-4f8921a68996"
      },
      "execution_count": null,
      "outputs": [
        {
          "output_type": "stream",
          "name": "stdout",
          "text": [
            "       00  000  00290  007  0070412901  0072316373  008  00yeah   01  011  \\\n",
            "0     0.0  0.0    0.0  0.0         0.0         0.0  0.0     0.0  0.0  0.0   \n",
            "1     0.0  0.0    0.0  0.0         0.0         0.0  0.0     0.0  0.0  0.0   \n",
            "2     0.0  0.0    0.0  0.0         0.0         0.0  0.0     0.0  0.0  0.0   \n",
            "3     0.0  0.0    0.0  0.0         0.0         0.0  0.0     0.0  0.0  0.0   \n",
            "4     0.0  0.0    0.0  0.0         0.0         0.0  0.0     0.0  0.0  0.0   \n",
            "...   ...  ...    ...  ...         ...         ...  ...     ...  ...  ...   \n",
            "5995  0.0  0.0    0.0  0.0         0.0         0.0  0.0     0.0  0.0  0.0   \n",
            "5996  0.0  0.0    0.0  0.0         0.0         0.0  0.0     0.0  0.0  0.0   \n",
            "5997  0.0  0.0    0.0  0.0         0.0         0.0  0.0     0.0  0.0  0.0   \n",
            "5998  0.0  0.0    0.0  0.0         0.0         0.0  0.0     0.0  0.0  0.0   \n",
            "5999  0.0  0.0    0.0  0.0         0.0         0.0  0.0     0.0  0.0  0.0   \n",
            "\n",
            "      ...   zu  zuez  zune  zydeco  zzzzzz  zzzzzzzzzz  zzzzzzzzzzzz  \\\n",
            "0     ...  0.0   0.0   0.0     0.0     0.0         0.0           0.0   \n",
            "1     ...  0.0   0.0   0.0     0.0     0.0         0.0           0.0   \n",
            "2     ...  0.0   0.0   0.0     0.0     0.0         0.0           0.0   \n",
            "3     ...  0.0   0.0   0.0     0.0     0.0         0.0           0.0   \n",
            "4     ...  0.0   0.0   0.0     0.0     0.0         0.0           0.0   \n",
            "...   ...  ...   ...   ...     ...     ...         ...           ...   \n",
            "5995  ...  0.0   0.0   0.0     0.0     0.0         0.0           0.0   \n",
            "5996  ...  0.0   0.0   0.0     0.0     0.0         0.0           0.0   \n",
            "5997  ...  0.0   0.0   0.0     0.0     0.0         0.0           0.0   \n",
            "5998  ...  0.0   0.0   0.0     0.0     0.0         0.0           0.0   \n",
            "5999  ...  0.0   0.0   0.0     0.0     0.0         0.0           0.0   \n",
            "\n",
            "      zzzzzzzzzzzzz  éviter  única  \n",
            "0               0.0     0.0    0.0  \n",
            "1               0.0     0.0    0.0  \n",
            "2               0.0     0.0    0.0  \n",
            "3               0.0     0.0    0.0  \n",
            "4               0.0     0.0    0.0  \n",
            "...             ...     ...    ...  \n",
            "5995            0.0     0.0    0.0  \n",
            "5996            0.0     0.0    0.0  \n",
            "5997            0.0     0.0    0.0  \n",
            "5998            0.0     0.0    0.0  \n",
            "5999            0.0     0.0    0.0  \n",
            "\n",
            "[6000 rows x 21497 columns]\n"
          ]
        }
      ]
    },
    {
      "cell_type": "markdown",
      "source": [
        "## Técnica de Vetorização a partir da Contagem de Palavras\n",
        "\n",
        "Nessa técnica, o texto contido nas frases é convertido em vetores onde cada posição representa uma palavra contida na frase e o valor que está em cada posição representa o número de vezes que houve ocorrência da palavra correspondente a essa posição na frase."
      ],
      "metadata": {
        "id": "sJLkhngXFIJn"
      }
    },
    {
      "cell_type": "code",
      "source": [
        "# Importando mecanismos que fazem a vetorização por contagem\n",
        "from sklearn.feature_extraction.text import CountVectorizer\n",
        "from sklearn.model_selection import train_test_split\n",
        "from nltk.corpus import stopwords\n",
        "import nltk\n",
        "nltk.download('stopwords')\n",
        "\n",
        "stop_words = stopwords.words('english')\n",
        "\n",
        "# Separando as palavras em unigramas e fazendo a vetorização com CountVectorizer para todos os 3 datasets que serão usados\n",
        "\n",
        "vect1 = CountVectorizer(ngram_range=(1, 1), lowercase=True, stop_words=stop_words)\n",
        "vect1.fit(data_imdb.Avaliation)\n",
        "data_set_imdb = vect1.transform(data_imdb.Avaliation)\n",
        "\n",
        "vect2 = CountVectorizer(ngram_range=(1, 1), lowercase=True, stop_words=stop_words)\n",
        "vect2.fit(data_yelp.Avaliation)\n",
        "data_set_yelp = vect2.transform(data_yelp.Avaliation)\n",
        "\n",
        "vect3 = CountVectorizer(ngram_range=(1, 1), lowercase=True, stop_words=stop_words)\n",
        "vect3.fit(data_amazon.Avaliation)\n",
        "data_set_amazon = vect3.transform(data_amazon.Avaliation)\n",
        "\n",
        "print(data_set_amazon)"
      ],
      "metadata": {
        "id": "7aGcRVVsFHyq",
        "colab": {
          "base_uri": "https://localhost:8080/"
        },
        "outputId": "917e6e74-2608-447c-c6ab-19a1e8d4258b"
      },
      "execution_count": 2,
      "outputs": [
        {
          "output_type": "stream",
          "name": "stderr",
          "text": [
            "[nltk_data] Downloading package stopwords to /root/nltk_data...\n",
            "[nltk_data]   Unzipping corpora/stopwords.zip.\n"
          ]
        },
        {
          "output_type": "stream",
          "name": "stdout",
          "text": [
            "  (0, 4376)\t1\n",
            "  (0, 8321)\t1\n",
            "  (0, 14190)\t1\n",
            "  (0, 20015)\t1\n",
            "  (0, 20180)\t1\n",
            "  (0, 20723)\t1\n",
            "  (1, 3204)\t1\n",
            "  (1, 6858)\t1\n",
            "  (1, 8358)\t1\n",
            "  (1, 20256)\t1\n",
            "  (2, 8491)\t1\n",
            "  (2, 10272)\t1\n",
            "  (3, 334)\t1\n",
            "  (3, 3396)\t1\n",
            "  (3, 4372)\t1\n",
            "  (3, 10807)\t1\n",
            "  (3, 11505)\t1\n",
            "  (3, 12119)\t1\n",
            "  (3, 14662)\t1\n",
            "  (3, 19165)\t1\n",
            "  (4, 8491)\t1\n",
            "  (4, 12014)\t1\n",
            "  (5, 5015)\t1\n",
            "  (5, 8189)\t2\n",
            "  (5, 10322)\t1\n",
            "  :\t:\n",
            "  (5999, 8491)\t1\n",
            "  (5999, 8952)\t2\n",
            "  (5999, 8976)\t1\n",
            "  (5999, 10565)\t1\n",
            "  (5999, 11272)\t1\n",
            "  (5999, 11586)\t2\n",
            "  (5999, 12085)\t1\n",
            "  (5999, 12419)\t1\n",
            "  (5999, 12714)\t1\n",
            "  (5999, 13489)\t1\n",
            "  (5999, 14791)\t1\n",
            "  (5999, 15234)\t1\n",
            "  (5999, 15633)\t1\n",
            "  (5999, 16506)\t2\n",
            "  (5999, 17115)\t1\n",
            "  (5999, 17290)\t1\n",
            "  (5999, 17406)\t1\n",
            "  (5999, 17559)\t1\n",
            "  (5999, 18140)\t1\n",
            "  (5999, 18924)\t1\n",
            "  (5999, 19329)\t1\n",
            "  (5999, 19572)\t1\n",
            "  (5999, 20434)\t1\n",
            "  (5999, 20723)\t1\n",
            "  (5999, 21169)\t1\n"
          ]
        }
      ]
    },
    {
      "cell_type": "markdown",
      "source": [
        "## Divisão dos Dados para Treino e para Avaliação"
      ],
      "metadata": {
        "id": "VFspnt0zK8Py"
      }
    },
    {
      "cell_type": "code",
      "source": [
        "# Separando os dados de cada dataset já vetorizado e com as features das amostras pré-processadas em dados de treino e de avaliação, para cada dataset\n",
        "\n",
        "data_treino_imdbX,data_aval_imdbX,data_treino_imdbY,data_aval_imdbY = train_test_split(\n",
        "    data_set_imdb,\n",
        "    data_imdb.Sentiment,\n",
        "    test_size = 0.2,\n",
        "    random_state = 42\n",
        ")\n",
        "\n",
        "data_treino_yelpX, data_aval_yelpX, data_treino_yelpY, data_aval_yelpY = train_test_split(\n",
        "    data_set_yelp,\n",
        "    data_yelp.Sentiment,\n",
        "    test_size = 0.2,\n",
        "    random_state = 42\n",
        ")\n",
        "\n",
        "data_treino_amazonX, data_aval_amazonX, data_treino_amazonY, data_aval_amazonY = train_test_split(\n",
        "    data_set_amazon,\n",
        "    data_amazon.Sentiment,\n",
        "    test_size = 0.2,\n",
        "    random_state = 42\n",
        "\n",
        ")"
      ],
      "metadata": {
        "id": "qRFJ5rquJxCt"
      },
      "execution_count": 3,
      "outputs": []
    },
    {
      "cell_type": "markdown",
      "source": [
        "## Aplicando Modelos de Machine Learning para Classificar os Dados\n",
        "\n",
        "Para classificar as frases vamos utilizar dois modelos: um baseado em Regressão Logística e outro em\n",
        "\n",
        "Para cada data set faremos treinamento, avalaição e mostraemos asmétricas de avaliação calculas e plotadas graficamente.\n",
        "\n",
        "### Regressão Logística\n",
        "O método de classificação utilizando regressão logística foi escolhido porque ela apresenta bons desempenhos em problemas de classificação binária. Além disso, o modelo realiza uma boa análise de quais características são ou não importantes para classificação da amostra. O fato dos dados do nosso problema serem linearmente separáveis, o modelo é capaz de fazer uma separação razoavelmente boa entre as classes.\n",
        "\n",
        "### Gradient Tree Boosting\n",
        "O modelo baseado em Gradient Tree Boosting foi escolhido porque também apresenta um desempenho muito bom em problemas de classificação binária como esse. Além disso, o modelo é muito flexível e foi o que apresentou melhor resultado em uma atividade feita na disciplina de INF 420, o que também influenciou na escolha. Para o número de estimators, foram feitos  testes com os valores {10, 50, 100, 500, 1000}, e o que apresentou melhor resultado foi incorporado ao código.\n",
        "\n",
        "### Métricas de Avaliação dos Resultados\n",
        "Serão observadas as seguintes métricas de avalição:\n",
        "\n",
        "\n",
        "*   Acurácia\n",
        "*   Precision\n",
        "*   Recall\n",
        "*   F1-score\n",
        "*   Matriz de Confusão\n",
        "\n",
        "No entanto, para fins de simplificação, no relatório serão analisadas apenas acurácia, precisão e a matriz de confusão.\n",
        "\n",
        "\n",
        "\n"
      ],
      "metadata": {
        "id": "opNa52NchttX"
      }
    },
    {
      "cell_type": "code",
      "source": [
        "from sklearn.metrics import accuracy_score\n",
        "from sklearn.metrics import classification_report\n",
        "from sklearn.linear_model import LogisticRegression\n",
        "from sklearn.ensemble import GradientBoostingClassifier\n",
        "import numpy as np\n",
        "import matplotlib.pyplot as plt\n",
        "import seaborn as sns\n",
        "from sklearn.metrics import confusion_matrix"
      ],
      "metadata": {
        "id": "VW229i1BFxoT"
      },
      "execution_count": 4,
      "outputs": []
    },
    {
      "cell_type": "markdown",
      "source": [
        "### Dataset IMDB com Regressão Logística"
      ],
      "metadata": {
        "id": "PQgSZO3L6JqZ"
      }
    },
    {
      "cell_type": "code",
      "source": [
        "# Treinamento e Predição do modelo - Regressão Logistica\n",
        "RL_imdb = LogisticRegression()\n",
        "RL_imdb = RL_imdb.fit(data_treino_imdbX, data_treino_imdbY)\n",
        "\n",
        "RL_imdb_results = RL_imdb.predict(data_aval_imdbX)\n",
        "\n",
        "# Medidas de Avalição\n",
        "\n",
        "# Acurácia\n",
        "RL_acuracy_imdb = accuracy_score(data_aval_imdbY, RL_imdb_results) #verificação da acurácia da Regressão logística\n",
        "\n",
        "print(\"Taxa de acerto usando métrica de acurácia, usando o método de Regressão Logísitica, no IMDB: \", RL_acuracy_imdb )\n",
        "\n",
        "# Classification Report\n",
        "print(classification_report(data_aval_imdbY, RL_imdb_results, target_names=['Avaliações Positivas', 'Avaliações Negativas']))\n"
      ],
      "metadata": {
        "colab": {
          "base_uri": "https://localhost:8080/"
        },
        "id": "mzuly-4G55hd",
        "outputId": "7231ab5f-c0db-46af-97c6-1a4de34d04eb"
      },
      "execution_count": 5,
      "outputs": [
        {
          "output_type": "stream",
          "name": "stdout",
          "text": [
            "Taxa de acerto usando métrica de acurácia, usando o método de Regressão Logísitica, no IMDB:  0.7866666666666666\n",
            "                      precision    recall  f1-score   support\n",
            "\n",
            "Avaliações Positivas       0.80      0.78      0.79        76\n",
            "Avaliações Negativas       0.78      0.80      0.79        74\n",
            "\n",
            "            accuracy                           0.79       150\n",
            "           macro avg       0.79      0.79      0.79       150\n",
            "        weighted avg       0.79      0.79      0.79       150\n",
            "\n"
          ]
        }
      ]
    },
    {
      "cell_type": "code",
      "source": [
        "print(\"Matriz de confusão do modelo para IMDB com Regressão Logística\")\n",
        "\n",
        "cm = confusion_matrix(data_aval_imdbY, RL_imdb_results)\n",
        "sns.heatmap(cm, annot=True, fmt='d', cmap='Blues')\n",
        "plt.xlabel('Labels Preditadas')\n",
        "plt.ylabel('Labels Corretas')\n",
        "plt.title('Matriz de Confusão - Contagem de Palavras')\n",
        "plt.show()"
      ],
      "metadata": {
        "colab": {
          "base_uri": "https://localhost:8080/",
          "height": 490
        },
        "id": "O-LhxxGDS4bM",
        "outputId": "f353b107-5663-4fbd-9593-dc85f7ebfaf5"
      },
      "execution_count": 6,
      "outputs": [
        {
          "output_type": "stream",
          "name": "stdout",
          "text": [
            "Matriz de confusão do modelo para IMDB com Regressão Logística\n"
          ]
        },
        {
          "output_type": "display_data",
          "data": {
            "text/plain": [
              "<Figure size 640x480 with 2 Axes>"
            ],
            "image/png": "[encoded data removed]"
          },
          "metadata": {}
        }
      ]
    },
    {
      "cell_type": "markdown",
      "source": [
        "### Dataset IMDB com Gradient Tree Boosting"
      ],
      "metadata": {
        "id": "yx9eGzm17f95"
      }
    },
    {
      "cell_type": "code",
      "source": [
        "# Treinamento e Predição do modelo - Gradient Tree Boosting\n",
        "GTB_imdb = GradientBoostingClassifier(n_estimators=500) # TF-IDF = 500, CP=500\n",
        "GTB_imdb.fit(data_treino_imdbX, data_treino_imdbY)\n",
        "\n",
        "GTB_imdb_results = GTB_imdb.predict(data_aval_imdbX)\n",
        "\n",
        "# Medidas de Avalição\n",
        "\n",
        "# Acurácia\n",
        "GTB_acuracy_imdb = accuracy_score(data_aval_imdbY, GTB_imdb_results)\n",
        "\n",
        "print(\"Taxa de acerto usando métrica de acurácia, usando o método de  Gradient Tree Boosting, no IMDB: \", GTB_acuracy_imdb )\n",
        "\n",
        "# Classification Report\n",
        "print(classification_report(data_aval_imdbY, GTB_imdb_results, target_names=['Avaliações Positivas', 'Avaliações Negativas']))\n"
      ],
      "metadata": {
        "colab": {
          "base_uri": "https://localhost:8080/"
        },
        "id": "ztqE1XBt7s9l",
        "outputId": "384e8dbe-ba89-4a5c-a8dc-894b335e1703"
      },
      "execution_count": 7,
      "outputs": [
        {
          "output_type": "stream",
          "name": "stdout",
          "text": [
            "Taxa de acerto usando métrica de acurácia, usando o método de  Gradient Tree Boosting, no IMDB:  0.74\n",
            "                      precision    recall  f1-score   support\n",
            "\n",
            "Avaliações Positivas       0.88      0.57      0.69        76\n",
            "Avaliações Negativas       0.67      0.92      0.78        74\n",
            "\n",
            "            accuracy                           0.74       150\n",
            "           macro avg       0.78      0.74      0.73       150\n",
            "        weighted avg       0.78      0.74      0.73       150\n",
            "\n"
          ]
        }
      ]
    },
    {
      "cell_type": "code",
      "source": [
        "import numpy as np\n",
        "import matplotlib.pyplot as plt\n",
        "import seaborn as sns\n",
        "from sklearn.metrics import confusion_matrix\n",
        "\n",
        "print(\"Matriz de confusão do modelo para IMDB com Gradient Tree Boosting\")\n",
        "\n",
        "cm = confusion_matrix(data_aval_imdbY, GTB_imdb_results)\n",
        "sns.heatmap(cm, annot=True, fmt='d', cmap='Blues')\n",
        "plt.xlabel('Labels preditadas')\n",
        "plt.ylabel('Labels Corretas')\n",
        "plt.title('Matriz de Confusão - Contagem de Palavras')\n",
        "plt.show()"
      ],
      "metadata": {
        "colab": {
          "base_uri": "https://localhost:8080/",
          "height": 490
        },
        "id": "9nl-Hb7y-h1k",
        "outputId": "03f54756-9153-4197-c461-4faa75f8c04a"
      },
      "execution_count": 8,
      "outputs": [
        {
          "output_type": "stream",
          "name": "stdout",
          "text": [
            "Matriz de confusão do modelo para IMDB com Gradient Tree Boosting\n"
          ]
        },
        {
          "output_type": "display_data",
          "data": {
            "text/plain": [
              "<Figure size 640x480 with 2 Axes>"
            ],
            "image/png": "[encoded data removed]"
          },
          "metadata": {}
        }
      ]
    },
    {
      "cell_type": "markdown",
      "source": [
        "### Dataset Yelp com Regressão Logística"
      ],
      "metadata": {
        "id": "YXLIMFOv62Z_"
      }
    },
    {
      "cell_type": "code",
      "source": [
        "# Treinamento e Predição do modelo - Regressão Logistica\n",
        "RL_yelp = LogisticRegression(random_state=0, solver='liblinear')\n",
        "RL_yelp = RL_yelp.fit(data_treino_yelpX, data_treino_yelpY)\n",
        "\n",
        "RL_yelp_results = RL_yelp.predict(data_aval_yelpX)\n",
        "\n",
        "# Medidas de Avalição\n",
        "\n",
        "# Acurácia\n",
        "RL_acuracy_yelp = accuracy_score(data_aval_yelpY, RL_yelp_results) #verificação da acurácia da Regressão logística\n",
        "\n",
        "print(\"Taxa de acerto usando métrica de acurácia, usando o método de regressão logística, no yelp: \", RL_acuracy_yelp )\n",
        "\n",
        "# Classification Report\n",
        "print(classification_report(data_aval_yelpY, RL_yelp_results, target_names=['Avaliações Positivas', 'Avaliações Negativas']))"
      ],
      "metadata": {
        "colab": {
          "base_uri": "https://localhost:8080/"
        },
        "id": "9PHaSZEW6guO",
        "outputId": "f7bf3056-6b8d-457d-d1ce-53e5d863af0e"
      },
      "execution_count": 9,
      "outputs": [
        {
          "output_type": "stream",
          "name": "stdout",
          "text": [
            "Taxa de acerto usando métrica de acurácia, usando o método de regressão logística, no yelp:  0.785\n",
            "                      precision    recall  f1-score   support\n",
            "\n",
            "Avaliações Positivas       0.73      0.89      0.80        96\n",
            "Avaliações Negativas       0.87      0.69      0.77       104\n",
            "\n",
            "            accuracy                           0.79       200\n",
            "           macro avg       0.80      0.79      0.78       200\n",
            "        weighted avg       0.80      0.79      0.78       200\n",
            "\n"
          ]
        }
      ]
    },
    {
      "cell_type": "code",
      "source": [
        "print(\"Matriz de confusão do modelo para Yelp com Regressão Logística\")\n",
        "\n",
        "cm = confusion_matrix(data_aval_yelpY, RL_yelp_results)\n",
        "sns.heatmap(cm, annot=True, fmt='d', cmap='Blues')\n",
        "plt.xlabel('Labels preditadas')\n",
        "plt.ylabel('Labels Corretas')\n",
        "plt.title('Matriz de confusão')\n",
        "plt.show()"
      ],
      "metadata": {
        "colab": {
          "base_uri": "https://localhost:8080/",
          "height": 490
        },
        "id": "zmh8OGlp6aH5",
        "outputId": "9d8e37cd-f970-479f-b551-1f8c4f4f54dd"
      },
      "execution_count": 10,
      "outputs": [
        {
          "output_type": "stream",
          "name": "stdout",
          "text": [
            "Matriz de confusão do modelo para Yelp com Regressão Logística\n"
          ]
        },
        {
          "output_type": "display_data",
          "data": {
            "text/plain": [
              "<Figure size 640x480 with 2 Axes>"
            ],
            "image/png": "[encoded data removed]"
          },
          "metadata": {}
        }
      ]
    },
    {
      "cell_type": "markdown",
      "source": [
        "### Dataset Yelp com Gradient Tree Boosting"
      ],
      "metadata": {
        "id": "jJ0epH54_USP"
      }
    },
    {
      "cell_type": "code",
      "source": [
        "# Treinamento e Predição do modelo\n",
        "GTB_yelp = GradientBoostingClassifier(n_estimators=1000) # TF-IDF = 1000, CP=500=1000\n",
        "GTB_yelp = GTB_yelp.fit(data_treino_yelpX, data_treino_yelpY)\n",
        "\n",
        "GTB_yelp_results = GTB_yelp.predict(data_aval_yelpX)\n",
        "\n",
        "# Medidas de Avalição\n",
        "\n",
        "# Acurácia\n",
        "GTB_acuracy_yelp = accuracy_score(data_aval_yelpY, GTB_yelp_results)\n",
        "\n",
        "print(\"Taxa de acerto usando métrica de acurácia, usando o método de Gradient Tree Boosting, no yelp: \", GTB_acuracy_yelp )\n",
        "\n",
        "# Classification Report\n",
        "print(classification_report(data_aval_yelpY, GTB_yelp_results, target_names=['Avaliações Positivas', 'Avaliações Negativas']))"
      ],
      "metadata": {
        "colab": {
          "base_uri": "https://localhost:8080/"
        },
        "id": "4BLyQwyL_VVZ",
        "outputId": "b5a14fab-7894-429d-c53f-bf5f101a2cc6"
      },
      "execution_count": 11,
      "outputs": [
        {
          "output_type": "stream",
          "name": "stdout",
          "text": [
            "Taxa de acerto usando métrica de acurácia, usando o método de Gradient Tree Boosting, no yelp:  0.75\n",
            "                      precision    recall  f1-score   support\n",
            "\n",
            "Avaliações Positivas       0.68      0.91      0.78        96\n",
            "Avaliações Negativas       0.88      0.61      0.72       104\n",
            "\n",
            "            accuracy                           0.75       200\n",
            "           macro avg       0.78      0.76      0.75       200\n",
            "        weighted avg       0.78      0.75      0.75       200\n",
            "\n"
          ]
        }
      ]
    },
    {
      "cell_type": "code",
      "source": [
        "print(\"Matriz de confusão do modelo para Yelp com Gradient Tree Boosting\")\n",
        "\n",
        "cm = confusion_matrix(data_aval_yelpY, GTB_yelp_results)\n",
        "sns.heatmap(cm, annot=True, fmt='d', cmap='Reds')\n",
        "plt.xlabel('Labels preditadas')\n",
        "plt.ylabel('Labels Corretas')\n",
        "plt.title('Matriz de Confusão - Contagem de Palavras')\n",
        "plt.show()"
      ],
      "metadata": {
        "colab": {
          "base_uri": "https://localhost:8080/",
          "height": 490
        },
        "id": "veME2_4z_wWq",
        "outputId": "2d759a17-e442-49b9-d225-782550892825"
      },
      "execution_count": 12,
      "outputs": [
        {
          "output_type": "stream",
          "name": "stdout",
          "text": [
            "Matriz de confusão do modelo para Yelp com Gradient Tree Boosting\n"
          ]
        },
        {
          "output_type": "display_data",
          "data": {
            "text/plain": [
              "<Figure size 640x480 with 2 Axes>"
            ],
            "image/png": "[encoded data removed]"
          },
          "metadata": {}
        }
      ]
    },
    {
      "cell_type": "markdown",
      "source": [
        "### Dataset Amazon com Regressão Logística"
      ],
      "metadata": {
        "id": "2fwUvlC-7IWd"
      }
    },
    {
      "cell_type": "code",
      "source": [
        "# Treinamento e Predição do modelo - Regressão Logistica\n",
        "RL_amazon = LogisticRegression(random_state=0, solver='liblinear')\n",
        "RL_amazon = RL_amazon.fit(data_treino_amazonX, data_treino_amazonY)\n",
        "\n",
        "RL_amazon_results = RL_amazon.predict(data_aval_amazonX)\n",
        "\n",
        "# Medidas de Avalição\n",
        "\n",
        "# Acurácia\n",
        "RL_acuracy_amazon = accuracy_score(data_aval_amazonY, RL_amazon_results)\n",
        "\n",
        "print(\"Taxa de acerto usando métrica de acurácia, usando o método de regressão logística, no dataset da Amazon: \", RL_acuracy_amazon )\n",
        "\n",
        "# Classification Report\n",
        "print(classification_report(data_aval_amazonY, RL_amazon_results, target_names=['Avaliações Positivas', 'Avaliações Negativas']))"
      ],
      "metadata": {
        "colab": {
          "base_uri": "https://localhost:8080/"
        },
        "id": "HrgRakgX6u38",
        "outputId": "e5eb8c66-f57f-4951-87f3-bee8071c9466"
      },
      "execution_count": 13,
      "outputs": [
        {
          "output_type": "stream",
          "name": "stdout",
          "text": [
            "Taxa de acerto usando métrica de acurácia, usando o método de regressão logística, no dataset da Amazon:  0.8083333333333333\n",
            "                      precision    recall  f1-score   support\n",
            "\n",
            "Avaliações Positivas       0.83      0.82      0.82       657\n",
            "Avaliações Negativas       0.78      0.80      0.79       543\n",
            "\n",
            "            accuracy                           0.81      1200\n",
            "           macro avg       0.81      0.81      0.81      1200\n",
            "        weighted avg       0.81      0.81      0.81      1200\n",
            "\n"
          ]
        }
      ]
    },
    {
      "cell_type": "code",
      "source": [
        "print(\"Matriz de confusão do modelo para Amazon com Regressão Logística\")\n",
        "\n",
        "cm = confusion_matrix(data_aval_amazonY, RL_amazon_results)\n",
        "sns.heatmap(cm, annot=True, fmt='d', cmap='Purples')\n",
        "plt.xlabel('Labels preditadas')\n",
        "plt.ylabel('Labels Corretas')\n",
        "plt.title('Matriz de Confusão - TF-IDF')\n",
        "plt.show()"
      ],
      "metadata": {
        "colab": {
          "base_uri": "https://localhost:8080/",
          "height": 490
        },
        "id": "2Lp9-pZxUKaI",
        "outputId": "3fbcfdc3-8d42-40fd-c13f-e9188377bf5a"
      },
      "execution_count": 14,
      "outputs": [
        {
          "output_type": "stream",
          "name": "stdout",
          "text": [
            "Matriz de confusão do modelo para Amazon com Regressão Logística\n"
          ]
        },
        {
          "output_type": "display_data",
          "data": {
            "text/plain": [
              "<Figure size 640x480 with 2 Axes>"
            ],
            "image/png": "[encoded data removed]"
          },
          "metadata": {}
        }
      ]
    },
    {
      "cell_type": "markdown",
      "source": [
        "### Dataset Amazon com Gradient Tree Boosting"
      ],
      "metadata": {
        "id": "uZ6hKb14CIVn"
      }
    },
    {
      "cell_type": "code",
      "source": [
        "# Treinamento e Predição do modelo\n",
        "GTB_amazon = GradientBoostingClassifier(n_estimators=100) # TF-IDF = 1000, CP=500\n",
        "GTB_amazon = GTB_amazon.fit(data_treino_amazonX, data_treino_amazonY)\n",
        "\n",
        "GTB_amazon_results = GTB_amazon.predict(data_aval_amazonX)\n",
        "\n",
        "# Medidas de Avalição\n",
        "\n",
        "# Acurácia\n",
        "GTB_acuracy_amazon = accuracy_score(data_aval_amazonY, GTB_amazon_results)\n",
        "\n",
        "print(\"Taxa de acerto usando métrica de acurácia, usando o método de Gradient Tree Boosting, no dataset da Amazon: \", GTB_acuracy_amazon )\n",
        "\n",
        "# Classification Report\n",
        "print(classification_report(data_aval_amazonY, GTB_amazon_results, target_names=['Avaliações Positivas', 'Avaliações Negativas']))"
      ],
      "metadata": {
        "colab": {
          "base_uri": "https://localhost:8080/"
        },
        "id": "YMY0lcOXCMGQ",
        "outputId": "88d74d0d-9193-4604-af08-ffb7e73829ea"
      },
      "execution_count": 35,
      "outputs": [
        {
          "output_type": "stream",
          "name": "stdout",
          "text": [
            "Taxa de acerto usando métrica de acurácia, usando o método de Gradient Tree Boosting, no dataset da Amazon:  0.7825\n",
            "                      precision    recall  f1-score   support\n",
            "\n",
            "Avaliações Positivas       0.78      0.84      0.81       657\n",
            "Avaliações Negativas       0.78      0.72      0.75       543\n",
            "\n",
            "            accuracy                           0.78      1200\n",
            "           macro avg       0.78      0.78      0.78      1200\n",
            "        weighted avg       0.78      0.78      0.78      1200\n",
            "\n"
          ]
        }
      ]
    },
    {
      "cell_type": "code",
      "source": [
        "print(\"Matriz de confusão do modelo para Amazon com Gradient Tree Boosting \")\n",
        "\n",
        "cm = confusion_matrix(data_aval_amazonY, GTB_amazon_results)\n",
        "sns.heatmap(cm, annot=True, fmt='d', cmap='Purples')\n",
        "plt.xlabel('Labels preditadas')\n",
        "plt.ylabel('Labels Corretas')\n",
        "plt.title('Matriz de Confusão - TF-IDF')\n",
        "plt.show()"
      ],
      "metadata": {
        "colab": {
          "base_uri": "https://localhost:8080/",
          "height": 490
        },
        "id": "_5NvpwiACe2h",
        "outputId": "42601752-e422-4229-ccd8-a59f7a18160e"
      },
      "execution_count": 17,
      "outputs": [
        {
          "output_type": "stream",
          "name": "stdout",
          "text": [
            "Matriz de confusão do modelo para Amazon com Gradient Tree Boosting \n"
          ]
        },
        {
          "output_type": "display_data",
          "data": {
            "text/plain": [
              "<Figure size 640x480 with 2 Axes>"
            ],
            "image/png": "[encoded data removed]"
          },
          "metadata": {}
        }
      ]
    },
    {
      "cell_type": "markdown",
      "source": [
        "## Testes com Tranfer Learning com o Count Vectorizer\n",
        "\n",
        "Anteriormente foi feito o treinamento e a classificação separadamente para cada dataset. Isso significa que é possível que os modelos que foram treinados com avaliações de filmes do IMDB podem ter um desempenho diferente na classificação de estabelecimentos comerciais do Yelp, por exemplo. Com o objetivo de tentar entender se o contexto nesse caso influencia nos resultados de predição do modelo, vamos aplicar Transfer Learning, ou seja, usar modelos treinados com um determinado contexto para classificar amostras de contextos diferentes. É interessante constatarmos o impacto dessa mudança e verificar como o modelo se comporta.\n",
        "\n",
        "Só foi possível realizar esse processo com a vetorização por meio de contagem de palavras porque ela permite que palavras que não pertencem ao dataset sejam vetorizadas com as mesmas palavras que ele, o que não acontece com o TF-IDF.\n"
      ],
      "metadata": {
        "id": "fcgwMmFDyd-c"
      }
    },
    {
      "cell_type": "markdown",
      "source": [
        "### Modelo do IMDB Classificando Dados do Yelp"
      ],
      "metadata": {
        "id": "wZFes1-U3Zl1"
      }
    },
    {
      "cell_type": "code",
      "source": [
        "# Regressão Linear\n",
        "\n",
        "# Transformando o data set do Yelp em uma vetorização aceita pelo modelo do IMDB\n",
        "TL_imdb_yelp = vect1.transform(data_yelp.Avaliation)\n",
        "val_result_RL = RL_imdb.predict(TL_imdb_yelp) # Fazendo a prediação\n",
        "\n",
        "# Medindo a acurácia\n",
        "acuracy_RL = accuracy_score(data_yelp.Sentiment, val_result_RL)\n",
        "\n",
        "# Gradiente Tree Bosting\n",
        "\n",
        "# Transformando o data set do Yelp em uma vetorização aceita pelo modelo do IMDB\n",
        "TL_imdb_yelp = vect1.transform(data_yelp.Avaliation)\n",
        "val_result_GTB = GTB_imdb.predict(TL_imdb_yelp) # Fazendo a prediação\n",
        "\n",
        "# Medindo a acurácia\n",
        "acuracy_GTB = accuracy_score(data_yelp.Sentiment, val_result_GTB)\n",
        "\n",
        "print(\"Acurácia para o modelo de Regressão Logística:\", acuracy_RL)\n",
        "print(\"Acurácia para o modelo de Gradient Tree Boosting:\", acuracy_GTB)"
      ],
      "metadata": {
        "colab": {
          "base_uri": "https://localhost:8080/"
        },
        "id": "UDRVGs0u4Idz",
        "outputId": "5c9edf52-5022-45a2-82b0-853904c30880"
      },
      "execution_count": 18,
      "outputs": [
        {
          "output_type": "stream",
          "name": "stdout",
          "text": [
            "Acurácia para o modelo de Regressão Logística: 0.69\n",
            "Acurácia para o modelo de Gradient Tree Boosting: 0.647\n"
          ]
        }
      ]
    },
    {
      "cell_type": "markdown",
      "source": [
        "### Modelo do IMDB Classificando Dados da Amazon"
      ],
      "metadata": {
        "id": "s9KBpQScKs6f"
      }
    },
    {
      "cell_type": "code",
      "source": [
        "# Regressão Linear\n",
        "\n",
        "# Transformando o data set da Amazon em uma vetorização aceita pelo modelo do IMDB\n",
        "TL_imdb_amazon = vect1.transform(data_amazon.Avaliation)\n",
        "val_result_RL = RL_imdb.predict(TL_imdb_amazon) # Fazendo a prediação\n",
        "\n",
        "# Medindo a acurácia\n",
        "acuracy_RL = accuracy_score(data_amazon.Sentiment, val_result_RL)\n",
        "\n",
        "# Gradiente Tree Bosting\n",
        "\n",
        "# Transformando o data set da amazon em uma vetorização aceita pelo modelo do IMDB\n",
        "TL_imdb_amazon = vect1.transform(data_amazon.Avaliation)\n",
        "val_result_GTB = GTB_imdb.predict(TL_imdb_amazon) # Fazendo a prediação\n",
        "\n",
        "# Medindo a acurácia\n",
        "acuracy_GTB = accuracy_score(data_amazon.Sentiment, val_result_GTB)\n",
        "\n",
        "print(\"Acurácia para o modelo de Regressão Logística:\", acuracy_RL)\n",
        "print(\"Acurácia para o modelo de Gradient Tree Boosting:\", acuracy_GTB)"
      ],
      "metadata": {
        "colab": {
          "base_uri": "https://localhost:8080/"
        },
        "id": "JR4AIY8ILEvH",
        "outputId": "277ffc7b-85bc-439e-aed7-d92e66d347f9"
      },
      "execution_count": 19,
      "outputs": [
        {
          "output_type": "stream",
          "name": "stdout",
          "text": [
            "Acurácia para o modelo de Regressão Logística: 0.725\n",
            "Acurácia para o modelo de Gradient Tree Boosting: 0.6956666666666667\n"
          ]
        }
      ]
    },
    {
      "cell_type": "markdown",
      "source": [
        "### Modelo do Yelp Classificando Dados da IMDB"
      ],
      "metadata": {
        "id": "5sSlsFGdLwnv"
      }
    },
    {
      "cell_type": "code",
      "source": [
        "# Regressão Linear\n",
        "\n",
        "# Transformando o data set IMDB em uma vetorização aceita pelo modelo Yelp\n",
        "TL_yelp_imdb = vect2.transform(data_imdb.Avaliation)\n",
        "val_result_RL = RL_yelp.predict(TL_yelp_imdb) # Fazendo a prediação\n",
        "\n",
        "# Medindo a acurácia\n",
        "acuracy_RL = accuracy_score(data_imdb.Sentiment, val_result_RL)\n",
        "\n",
        "# Gradiente Tree Bosting\n",
        "\n",
        "# Transformando o data set da IMDB em uma vetorização aceita pelo modelo do Yelp\n",
        "TL_yelp_imdb = vect2.transform(data_imdb.Avaliation)\n",
        "val_result_GTB = GTB_yelp.predict(TL_yelp_imdb) # Fazendo a prediação\n",
        "\n",
        "# Medindo a acurácia\n",
        "acuracy_GTB = accuracy_score(data_imdb.Sentiment, val_result_GTB)\n",
        "\n",
        "print(\"Acurácia para o modelo de Regressão Logística:\", acuracy_RL)\n",
        "print(\"Acurácia para o modelo de Gradient Tree Boosting:\", acuracy_GTB)"
      ],
      "metadata": {
        "colab": {
          "base_uri": "https://localhost:8080/"
        },
        "id": "HWaWEzEVL1tH",
        "outputId": "24a712ea-49c2-4a6c-a9a6-caa81a743966"
      },
      "execution_count": 20,
      "outputs": [
        {
          "output_type": "stream",
          "name": "stdout",
          "text": [
            "Acurácia para o modelo de Regressão Logística: 0.6550802139037433\n",
            "Acurácia para o modelo de Gradient Tree Boosting: 0.6417112299465241\n"
          ]
        }
      ]
    },
    {
      "cell_type": "markdown",
      "source": [
        "### Modelo do Yelp Classificando Dados da Amazon"
      ],
      "metadata": {
        "id": "WObLxrsANDJ9"
      }
    },
    {
      "cell_type": "code",
      "source": [
        "# Regressão Linear\n",
        "\n",
        "# Transformando o data set Amazon em uma vetorização aceita pelo modelo Yelp\n",
        "TL_yelp_amazon = vect2.transform(data_amazon.Avaliation)\n",
        "val_result_RL = RL_yelp.predict(TL_yelp_amazon) # Fazendo a prediação\n",
        "\n",
        "# Medindo a acurácia\n",
        "acuracy_RL = accuracy_score(data_amazon.Sentiment, val_result_RL)\n",
        "\n",
        "# Gradiente Tree Bosting\n",
        "\n",
        "# Transformando o data set da Amazon em uma vetorização aceita pelo modelo do Yelp\n",
        "TL_yelp_amazon = vect2.transform(data_amazon.Avaliation)\n",
        "val_result_GTB = GTB_yelp.predict(TL_yelp_amazon) # Fazendo a prediação\n",
        "\n",
        "# Medindo a acurácia\n",
        "acuracy_GTB = accuracy_score(data_amazon.Sentiment, val_result_GTB)\n",
        "\n",
        "print(\"Acurácia para o modelo de Regressão Logística:\", acuracy_RL)\n",
        "print(\"Acurácia para o modelo de Gradient Tree Boosting:\", acuracy_GTB)"
      ],
      "metadata": {
        "colab": {
          "base_uri": "https://localhost:8080/"
        },
        "id": "BH0IzfunNCUl",
        "outputId": "6169e340-b83a-42d6-9589-8e567ae7eb9d"
      },
      "execution_count": 21,
      "outputs": [
        {
          "output_type": "stream",
          "name": "stdout",
          "text": [
            "Acurácia para o modelo de Regressão Logística: 0.7375\n",
            "Acurácia para o modelo de Gradient Tree Boosting: 0.7196666666666667\n"
          ]
        }
      ]
    },
    {
      "cell_type": "markdown",
      "source": [
        "### Modelo da Amazon Classificando Dados do IMDB"
      ],
      "metadata": {
        "id": "yieteWhRN79N"
      }
    },
    {
      "cell_type": "code",
      "source": [
        "# Regressão Linear\n",
        "\n",
        "# Transformando o data set IMDB em uma vetorização aceita pelo modelo Amazon\n",
        "TL_amazon_imdb = vect3.transform(data_imdb.Avaliation)\n",
        "val_result_RL = RL_amazon.predict(TL_amazon_imdb) # Fazendo a prediação\n",
        "\n",
        "# Medindo a acurácia\n",
        "acuracy_RL = accuracy_score(data_imdb.Sentiment, val_result_RL)\n",
        "\n",
        "# Gradiente Tree Bosting\n",
        "\n",
        "# Transformando o data set da IMDB em uma vetorização aceita pelo modelo Amazon\n",
        "TL_amazon_imdb = vect3.transform(data_imdb.Avaliation)\n",
        "val_result_GTB = GTB_amazon.predict(TL_amazon_imdb) # Fazendo a prediação\n",
        "\n",
        "# Medindo a acurácia\n",
        "acuracy_GTB = accuracy_score(data_imdb.Sentiment, val_result_GTB)\n",
        "\n",
        "print(\"Acurácia para o modelo de Regressão Logística:\", acuracy_RL)\n",
        "print(\"Acurácia para o modelo de Gradient Tree Boosting:\", acuracy_GTB)"
      ],
      "metadata": {
        "colab": {
          "base_uri": "https://localhost:8080/"
        },
        "id": "XDyAsFsmOEDy",
        "outputId": "8af0cdd0-f493-48ce-96d2-1337b3ec2d5a"
      },
      "execution_count": 28,
      "outputs": [
        {
          "output_type": "stream",
          "name": "stdout",
          "text": [
            "Acurácia para o modelo de Regressão Logística: 0.7566844919786097\n",
            "Acurácia para o modelo de Gradient Tree Boosting: 0.6323529411764706\n"
          ]
        }
      ]
    },
    {
      "cell_type": "markdown",
      "source": [
        "### Modelo da Amazon Classificando Dados do Yelp"
      ],
      "metadata": {
        "id": "hH9vCaP6OpSB"
      }
    },
    {
      "cell_type": "code",
      "source": [
        "# Regressão Linear\n",
        "\n",
        "# Transformando o data set Yelp em uma vetorização aceita pelo modelo Amazon\n",
        "TL_amazon_yelp = vect3.transform(data_yelp.Avaliation)\n",
        "val_result_RL = RL_amazon.predict(TL_amazon_yelp) # Fazendo a prediação\n",
        "\n",
        "# Medindo a acurácia\n",
        "acuracy_RL = accuracy_score(data_yelp.Sentiment, val_result_RL)\n",
        "\n",
        "# Gradiente Tree Bosting\n",
        "\n",
        "# Transformando o data set da Yelp em uma vetorização aceita pelo modelo Amazon\n",
        "TL_amazon_yelp = vect3.transform(data_yelp.Avaliation)\n",
        "val_result_GTB = GTB_amazon.predict(TL_amazon_yelp) # Fazendo a prediação\n",
        "\n",
        "# Medindo a acurácia\n",
        "acuracy_GTB = accuracy_score(data_yelp.Sentiment, val_result_GTB)\n",
        "\n",
        "print(\"Acurácia para o modelo de Regressão Logística:\", acuracy_RL)\n",
        "print(\"Acurácia para o modelo de Gradient Tree Boosting:\", acuracy_GTB)"
      ],
      "metadata": {
        "colab": {
          "base_uri": "https://localhost:8080/"
        },
        "id": "V6KXQCVNOte8",
        "outputId": "9ff6b1d5-61ff-4c4f-c213-4218adf2cd02"
      },
      "execution_count": 27,
      "outputs": [
        {
          "output_type": "stream",
          "name": "stdout",
          "text": [
            "Acurácia para o modelo de Regressão Logística: 0.748\n",
            "Acurácia para o modelo de Gradient Tree Boosting: 0.7\n"
          ]
        }
      ]
    },
    {
      "cell_type": "markdown",
      "source": [
        "## Classificando Frases Individualmente\n",
        "\n",
        "Aqui, podemos classificar qualquer frase da língua inglesa utilizando qualquer um dos modelos treinados com os datasets e os classificadores diferentes"
      ],
      "metadata": {
        "id": "AMP37Pt7wM00"
      }
    },
    {
      "cell_type": "code",
      "source": [
        "# Exemplo de frases para uso\n",
        "exemplo1 = 'The case is terrible'\n",
        "exemplo2 = 'The room it is so good, very confortable amazing!'\n",
        "exemplo3 = \"I didn't hate\"\n",
        "exemplo4 = \"I expected more, thought it would be better\"\n",
        "\n",
        "# Para testar, basta inserir uma frase na célula\n",
        "while True:\n",
        "  message = input()\n",
        "  if(message==\"exit\"): break\n",
        "  res = RL_amazon.predict(vect3.transform([message]))\n",
        "  if(res[0]): print(\"Positive :)\")\n",
        "  elif(not res[0]): print(\"Negative :(\")\n",
        "\n",
        "\n"
      ],
      "metadata": {
        "id": "qqrVWx2twUl2",
        "colab": {
          "base_uri": "https://localhost:8080/"
        },
        "outputId": "72733b8f-b01d-45ad-fef6-5b9b4d544177"
      },
      "execution_count": 24,
      "outputs": [
        {
          "name": "stdout",
          "output_type": "stream",
          "text": [
            "I love it\n",
            "Positive :)\n",
            "exit\n"
          ]
        }
      ]
    },
    {
      "cell_type": "markdown",
      "source": [
        "##Links de Consulta e Referência"
      ],
      "metadata": {
        "id": "SrWZ86K-W2lX"
      }
    },
    {
      "cell_type": "markdown",
      "source": [
        "https://github.com/gabrielschade/IA/blob/master/ClassificacaoComentariosComNaiveBayes/sentiment.ipynb\n",
        "\n",
        "https://towardsdatascience.com/natural-language-processing-feature-engineering-using-tf-idf-e8b9d00e7e76\n",
        "\n",
        "https://gabrielschade.github.io/2018/04/16/machine-learning-classificador.html\n",
        "\n",
        "https://www.youtube.com/watch?v=zi16nl82AMA&ab_channel=sentdex\n",
        "\n",
        "https://www.lambda3.com.br/2019/04/inteligencia-artificial-como-fazer-analise-de-sentimentos-com-python-parte-1/\n",
        "\n",
        "https://dadosaocubo.com/nlp-com-scikit-learn/"
      ],
      "metadata": {
        "id": "5lCEuTTvN_qn"
      }
    }
  ]
}